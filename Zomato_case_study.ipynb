{
 "cells": [
  {
   "cell_type": "code",
   "execution_count": 107,
   "id": "b515507d-bf7e-4a6e-a65d-c6b26a90406f",
   "metadata": {},
   "outputs": [],
   "source": [
    "import pandas as pd\n",
    "import sqlite3\n",
    "import numpy as np\n",
    "import matplotlib.pyplot as plt\n",
    "import seaborn as sns"
   ]
  },
  {
   "cell_type": "code",
   "execution_count": 108,
   "id": "c3b8d388-6e68-4891-baea-4cb743d2858b",
   "metadata": {},
   "outputs": [],
   "source": [
    "con = sqlite3.connect(r'C:\\Users\\Saikat\\Desktop\\pandas\\Projects\\Zomato_Resources/zomato_rawdata.sqlite')"
   ]
  },
  {
   "cell_type": "code",
   "execution_count": 109,
   "id": "4aa1381d-a168-4e47-88cd-089e2ca161d9",
   "metadata": {},
   "outputs": [],
   "source": [
    "zomato = pd.read_sql_query(\"SELECT * FROM Users\", con = con)"
   ]
  },
  {
   "cell_type": "code",
   "execution_count": 110,
   "id": "b7034056-a0c3-47aa-8aae-020d8bbe2a8a",
   "metadata": {
    "scrolled": true
   },
   "outputs": [
    {
     "data": {
      "text/html": [
       "<div>\n",
       "<style scoped>\n",
       "    .dataframe tbody tr th:only-of-type {\n",
       "        vertical-align: middle;\n",
       "    }\n",
       "\n",
       "    .dataframe tbody tr th {\n",
       "        vertical-align: top;\n",
       "    }\n",
       "\n",
       "    .dataframe thead th {\n",
       "        text-align: right;\n",
       "    }\n",
       "</style>\n",
       "<table border=\"1\" class=\"dataframe\">\n",
       "  <thead>\n",
       "    <tr style=\"text-align: right;\">\n",
       "      <th></th>\n",
       "      <th>index</th>\n",
       "      <th>url</th>\n",
       "      <th>address</th>\n",
       "      <th>name</th>\n",
       "      <th>online_order</th>\n",
       "      <th>book_table</th>\n",
       "      <th>rate</th>\n",
       "      <th>votes</th>\n",
       "      <th>phone</th>\n",
       "      <th>location</th>\n",
       "      <th>rest_type</th>\n",
       "      <th>dish_liked</th>\n",
       "      <th>cuisines</th>\n",
       "      <th>approx_cost(for two people)</th>\n",
       "      <th>reviews_list</th>\n",
       "      <th>menu_item</th>\n",
       "      <th>listed_in(type)</th>\n",
       "      <th>listed_in(city)</th>\n",
       "    </tr>\n",
       "  </thead>\n",
       "  <tbody>\n",
       "    <tr>\n",
       "      <th>0</th>\n",
       "      <td>0</td>\n",
       "      <td>https://www.zomato.com/bangalore/jalsa-banasha...</td>\n",
       "      <td>942, 21st Main Road, 2nd Stage, Banashankari, ...</td>\n",
       "      <td>Jalsa</td>\n",
       "      <td>Yes</td>\n",
       "      <td>Yes</td>\n",
       "      <td>4.1/5</td>\n",
       "      <td>775</td>\n",
       "      <td>080 42297555\\r\\n+91 9743772233</td>\n",
       "      <td>Banashankari</td>\n",
       "      <td>Casual Dining</td>\n",
       "      <td>Pasta, Lunch Buffet, Masala Papad, Paneer Laja...</td>\n",
       "      <td>North Indian, Mughlai, Chinese</td>\n",
       "      <td>800</td>\n",
       "      <td>[('Rated 4.0', 'RATED\\n  A beautiful place to ...</td>\n",
       "      <td>[]</td>\n",
       "      <td>Buffet</td>\n",
       "      <td>Banashankari</td>\n",
       "    </tr>\n",
       "    <tr>\n",
       "      <th>1</th>\n",
       "      <td>1</td>\n",
       "      <td>https://www.zomato.com/bangalore/spice-elephan...</td>\n",
       "      <td>2nd Floor, 80 Feet Road, Near Big Bazaar, 6th ...</td>\n",
       "      <td>Spice Elephant</td>\n",
       "      <td>Yes</td>\n",
       "      <td>No</td>\n",
       "      <td>4.1/5</td>\n",
       "      <td>787</td>\n",
       "      <td>080 41714161</td>\n",
       "      <td>Banashankari</td>\n",
       "      <td>Casual Dining</td>\n",
       "      <td>Momos, Lunch Buffet, Chocolate Nirvana, Thai G...</td>\n",
       "      <td>Chinese, North Indian, Thai</td>\n",
       "      <td>800</td>\n",
       "      <td>[('Rated 4.0', 'RATED\\n  Had been here for din...</td>\n",
       "      <td>[]</td>\n",
       "      <td>Buffet</td>\n",
       "      <td>Banashankari</td>\n",
       "    </tr>\n",
       "    <tr>\n",
       "      <th>2</th>\n",
       "      <td>2</td>\n",
       "      <td>https://www.zomato.com/SanchurroBangalore?cont...</td>\n",
       "      <td>1112, Next to KIMS Medical College, 17th Cross...</td>\n",
       "      <td>San Churro Cafe</td>\n",
       "      <td>Yes</td>\n",
       "      <td>No</td>\n",
       "      <td>3.8/5</td>\n",
       "      <td>918</td>\n",
       "      <td>+91 9663487993</td>\n",
       "      <td>Banashankari</td>\n",
       "      <td>Cafe, Casual Dining</td>\n",
       "      <td>Churros, Cannelloni, Minestrone Soup, Hot Choc...</td>\n",
       "      <td>Cafe, Mexican, Italian</td>\n",
       "      <td>800</td>\n",
       "      <td>[('Rated 3.0', \"RATED\\n  Ambience is not that ...</td>\n",
       "      <td>[]</td>\n",
       "      <td>Buffet</td>\n",
       "      <td>Banashankari</td>\n",
       "    </tr>\n",
       "    <tr>\n",
       "      <th>3</th>\n",
       "      <td>3</td>\n",
       "      <td>https://www.zomato.com/bangalore/addhuri-udupi...</td>\n",
       "      <td>1st Floor, Annakuteera, 3rd Stage, Banashankar...</td>\n",
       "      <td>Addhuri Udupi Bhojana</td>\n",
       "      <td>No</td>\n",
       "      <td>No</td>\n",
       "      <td>3.7/5</td>\n",
       "      <td>88</td>\n",
       "      <td>+91 9620009302</td>\n",
       "      <td>Banashankari</td>\n",
       "      <td>Quick Bites</td>\n",
       "      <td>Masala Dosa</td>\n",
       "      <td>South Indian, North Indian</td>\n",
       "      <td>300</td>\n",
       "      <td>[('Rated 4.0', \"RATED\\n  Great food and proper...</td>\n",
       "      <td>[]</td>\n",
       "      <td>Buffet</td>\n",
       "      <td>Banashankari</td>\n",
       "    </tr>\n",
       "    <tr>\n",
       "      <th>4</th>\n",
       "      <td>4</td>\n",
       "      <td>https://www.zomato.com/bangalore/grand-village...</td>\n",
       "      <td>10, 3rd Floor, Lakshmi Associates, Gandhi Baza...</td>\n",
       "      <td>Grand Village</td>\n",
       "      <td>No</td>\n",
       "      <td>No</td>\n",
       "      <td>3.8/5</td>\n",
       "      <td>166</td>\n",
       "      <td>+91 8026612447\\r\\n+91 9901210005</td>\n",
       "      <td>Basavanagudi</td>\n",
       "      <td>Casual Dining</td>\n",
       "      <td>Panipuri, Gol Gappe</td>\n",
       "      <td>North Indian, Rajasthani</td>\n",
       "      <td>600</td>\n",
       "      <td>[('Rated 4.0', 'RATED\\n  Very good restaurant ...</td>\n",
       "      <td>[]</td>\n",
       "      <td>Buffet</td>\n",
       "      <td>Banashankari</td>\n",
       "    </tr>\n",
       "    <tr>\n",
       "      <th>...</th>\n",
       "      <td>...</td>\n",
       "      <td>...</td>\n",
       "      <td>...</td>\n",
       "      <td>...</td>\n",
       "      <td>...</td>\n",
       "      <td>...</td>\n",
       "      <td>...</td>\n",
       "      <td>...</td>\n",
       "      <td>...</td>\n",
       "      <td>...</td>\n",
       "      <td>...</td>\n",
       "      <td>...</td>\n",
       "      <td>...</td>\n",
       "      <td>...</td>\n",
       "      <td>...</td>\n",
       "      <td>...</td>\n",
       "      <td>...</td>\n",
       "      <td>...</td>\n",
       "    </tr>\n",
       "    <tr>\n",
       "      <th>51712</th>\n",
       "      <td>51712</td>\n",
       "      <td>https://www.zomato.com/bangalore/best-brews-fo...</td>\n",
       "      <td>Four Points by Sheraton Bengaluru, 43/3, White...</td>\n",
       "      <td>Best Brews - Four Points by Sheraton Bengaluru...</td>\n",
       "      <td>No</td>\n",
       "      <td>No</td>\n",
       "      <td>3.6 /5</td>\n",
       "      <td>27</td>\n",
       "      <td>080 40301477</td>\n",
       "      <td>Whitefield</td>\n",
       "      <td>Bar</td>\n",
       "      <td>None</td>\n",
       "      <td>Continental</td>\n",
       "      <td>1,500</td>\n",
       "      <td>[('Rated 5.0', \"RATED\\n  Food and service are ...</td>\n",
       "      <td>[]</td>\n",
       "      <td>Pubs and bars</td>\n",
       "      <td>Whitefield</td>\n",
       "    </tr>\n",
       "    <tr>\n",
       "      <th>51713</th>\n",
       "      <td>51713</td>\n",
       "      <td>https://www.zomato.com/bangalore/vinod-bar-and...</td>\n",
       "      <td>Number 10, Garudachar Palya, Mahadevapura, Whi...</td>\n",
       "      <td>Vinod Bar And Restaurant</td>\n",
       "      <td>No</td>\n",
       "      <td>No</td>\n",
       "      <td>None</td>\n",
       "      <td>0</td>\n",
       "      <td>+91 8197675843</td>\n",
       "      <td>Whitefield</td>\n",
       "      <td>Bar</td>\n",
       "      <td>None</td>\n",
       "      <td>Finger Food</td>\n",
       "      <td>600</td>\n",
       "      <td>[]</td>\n",
       "      <td>[]</td>\n",
       "      <td>Pubs and bars</td>\n",
       "      <td>Whitefield</td>\n",
       "    </tr>\n",
       "    <tr>\n",
       "      <th>51714</th>\n",
       "      <td>51714</td>\n",
       "      <td>https://www.zomato.com/bangalore/plunge-sherat...</td>\n",
       "      <td>Sheraton Grand Bengaluru Whitefield Hotel &amp; Co...</td>\n",
       "      <td>Plunge - Sheraton Grand Bengaluru Whitefield H...</td>\n",
       "      <td>No</td>\n",
       "      <td>No</td>\n",
       "      <td>None</td>\n",
       "      <td>0</td>\n",
       "      <td>None</td>\n",
       "      <td>Whitefield</td>\n",
       "      <td>Bar</td>\n",
       "      <td>None</td>\n",
       "      <td>Finger Food</td>\n",
       "      <td>2,000</td>\n",
       "      <td>[]</td>\n",
       "      <td>[]</td>\n",
       "      <td>Pubs and bars</td>\n",
       "      <td>Whitefield</td>\n",
       "    </tr>\n",
       "    <tr>\n",
       "      <th>51715</th>\n",
       "      <td>51715</td>\n",
       "      <td>https://www.zomato.com/bangalore/chime-sherato...</td>\n",
       "      <td>Sheraton Grand Bengaluru Whitefield Hotel &amp; Co...</td>\n",
       "      <td>Chime - Sheraton Grand Bengaluru Whitefield Ho...</td>\n",
       "      <td>No</td>\n",
       "      <td>Yes</td>\n",
       "      <td>4.3 /5</td>\n",
       "      <td>236</td>\n",
       "      <td>080 49652769</td>\n",
       "      <td>ITPL Main Road, Whitefield</td>\n",
       "      <td>Bar</td>\n",
       "      <td>Cocktails, Pizza, Buttermilk</td>\n",
       "      <td>Finger Food</td>\n",
       "      <td>2,500</td>\n",
       "      <td>[('Rated 4.0', 'RATED\\n  Nice and friendly pla...</td>\n",
       "      <td>[]</td>\n",
       "      <td>Pubs and bars</td>\n",
       "      <td>Whitefield</td>\n",
       "    </tr>\n",
       "    <tr>\n",
       "      <th>51716</th>\n",
       "      <td>51716</td>\n",
       "      <td>https://www.zomato.com/bangalore/the-nest-the-...</td>\n",
       "      <td>ITPL Main Road, KIADB Export Promotion Industr...</td>\n",
       "      <td>The Nest - The Den Bengaluru</td>\n",
       "      <td>No</td>\n",
       "      <td>No</td>\n",
       "      <td>3.4 /5</td>\n",
       "      <td>13</td>\n",
       "      <td>+91 8071117272</td>\n",
       "      <td>ITPL Main Road, Whitefield</td>\n",
       "      <td>Bar, Casual Dining</td>\n",
       "      <td>None</td>\n",
       "      <td>Finger Food, North Indian, Continental</td>\n",
       "      <td>1,500</td>\n",
       "      <td>[('Rated 5.0', 'RATED\\n  Great ambience , look...</td>\n",
       "      <td>[]</td>\n",
       "      <td>Pubs and bars</td>\n",
       "      <td>Whitefield</td>\n",
       "    </tr>\n",
       "  </tbody>\n",
       "</table>\n",
       "<p>51717 rows × 18 columns</p>\n",
       "</div>"
      ],
      "text/plain": [
       "       index                                                url  \\\n",
       "0          0  https://www.zomato.com/bangalore/jalsa-banasha...   \n",
       "1          1  https://www.zomato.com/bangalore/spice-elephan...   \n",
       "2          2  https://www.zomato.com/SanchurroBangalore?cont...   \n",
       "3          3  https://www.zomato.com/bangalore/addhuri-udupi...   \n",
       "4          4  https://www.zomato.com/bangalore/grand-village...   \n",
       "...      ...                                                ...   \n",
       "51712  51712  https://www.zomato.com/bangalore/best-brews-fo...   \n",
       "51713  51713  https://www.zomato.com/bangalore/vinod-bar-and...   \n",
       "51714  51714  https://www.zomato.com/bangalore/plunge-sherat...   \n",
       "51715  51715  https://www.zomato.com/bangalore/chime-sherato...   \n",
       "51716  51716  https://www.zomato.com/bangalore/the-nest-the-...   \n",
       "\n",
       "                                                 address  \\\n",
       "0      942, 21st Main Road, 2nd Stage, Banashankari, ...   \n",
       "1      2nd Floor, 80 Feet Road, Near Big Bazaar, 6th ...   \n",
       "2      1112, Next to KIMS Medical College, 17th Cross...   \n",
       "3      1st Floor, Annakuteera, 3rd Stage, Banashankar...   \n",
       "4      10, 3rd Floor, Lakshmi Associates, Gandhi Baza...   \n",
       "...                                                  ...   \n",
       "51712  Four Points by Sheraton Bengaluru, 43/3, White...   \n",
       "51713  Number 10, Garudachar Palya, Mahadevapura, Whi...   \n",
       "51714  Sheraton Grand Bengaluru Whitefield Hotel & Co...   \n",
       "51715  Sheraton Grand Bengaluru Whitefield Hotel & Co...   \n",
       "51716  ITPL Main Road, KIADB Export Promotion Industr...   \n",
       "\n",
       "                                                    name online_order  \\\n",
       "0                                                  Jalsa          Yes   \n",
       "1                                         Spice Elephant          Yes   \n",
       "2                                        San Churro Cafe          Yes   \n",
       "3                                  Addhuri Udupi Bhojana           No   \n",
       "4                                          Grand Village           No   \n",
       "...                                                  ...          ...   \n",
       "51712  Best Brews - Four Points by Sheraton Bengaluru...           No   \n",
       "51713                           Vinod Bar And Restaurant           No   \n",
       "51714  Plunge - Sheraton Grand Bengaluru Whitefield H...           No   \n",
       "51715  Chime - Sheraton Grand Bengaluru Whitefield Ho...           No   \n",
       "51716                       The Nest - The Den Bengaluru           No   \n",
       "\n",
       "      book_table    rate  votes                             phone  \\\n",
       "0            Yes   4.1/5    775    080 42297555\\r\\n+91 9743772233   \n",
       "1             No   4.1/5    787                      080 41714161   \n",
       "2             No   3.8/5    918                    +91 9663487993   \n",
       "3             No   3.7/5     88                    +91 9620009302   \n",
       "4             No   3.8/5    166  +91 8026612447\\r\\n+91 9901210005   \n",
       "...          ...     ...    ...                               ...   \n",
       "51712         No  3.6 /5     27                      080 40301477   \n",
       "51713         No    None      0                    +91 8197675843   \n",
       "51714         No    None      0                              None   \n",
       "51715        Yes  4.3 /5    236                      080 49652769   \n",
       "51716         No  3.4 /5     13                    +91 8071117272   \n",
       "\n",
       "                         location            rest_type  \\\n",
       "0                    Banashankari        Casual Dining   \n",
       "1                    Banashankari        Casual Dining   \n",
       "2                    Banashankari  Cafe, Casual Dining   \n",
       "3                    Banashankari          Quick Bites   \n",
       "4                    Basavanagudi        Casual Dining   \n",
       "...                           ...                  ...   \n",
       "51712                  Whitefield                  Bar   \n",
       "51713                  Whitefield                  Bar   \n",
       "51714                  Whitefield                  Bar   \n",
       "51715  ITPL Main Road, Whitefield                  Bar   \n",
       "51716  ITPL Main Road, Whitefield   Bar, Casual Dining   \n",
       "\n",
       "                                              dish_liked  \\\n",
       "0      Pasta, Lunch Buffet, Masala Papad, Paneer Laja...   \n",
       "1      Momos, Lunch Buffet, Chocolate Nirvana, Thai G...   \n",
       "2      Churros, Cannelloni, Minestrone Soup, Hot Choc...   \n",
       "3                                            Masala Dosa   \n",
       "4                                    Panipuri, Gol Gappe   \n",
       "...                                                  ...   \n",
       "51712                                               None   \n",
       "51713                                               None   \n",
       "51714                                               None   \n",
       "51715                       Cocktails, Pizza, Buttermilk   \n",
       "51716                                               None   \n",
       "\n",
       "                                     cuisines approx_cost(for two people)  \\\n",
       "0              North Indian, Mughlai, Chinese                         800   \n",
       "1                 Chinese, North Indian, Thai                         800   \n",
       "2                      Cafe, Mexican, Italian                         800   \n",
       "3                  South Indian, North Indian                         300   \n",
       "4                    North Indian, Rajasthani                         600   \n",
       "...                                       ...                         ...   \n",
       "51712                             Continental                       1,500   \n",
       "51713                             Finger Food                         600   \n",
       "51714                             Finger Food                       2,000   \n",
       "51715                             Finger Food                       2,500   \n",
       "51716  Finger Food, North Indian, Continental                       1,500   \n",
       "\n",
       "                                            reviews_list menu_item  \\\n",
       "0      [('Rated 4.0', 'RATED\\n  A beautiful place to ...        []   \n",
       "1      [('Rated 4.0', 'RATED\\n  Had been here for din...        []   \n",
       "2      [('Rated 3.0', \"RATED\\n  Ambience is not that ...        []   \n",
       "3      [('Rated 4.0', \"RATED\\n  Great food and proper...        []   \n",
       "4      [('Rated 4.0', 'RATED\\n  Very good restaurant ...        []   \n",
       "...                                                  ...       ...   \n",
       "51712  [('Rated 5.0', \"RATED\\n  Food and service are ...        []   \n",
       "51713                                                 []        []   \n",
       "51714                                                 []        []   \n",
       "51715  [('Rated 4.0', 'RATED\\n  Nice and friendly pla...        []   \n",
       "51716  [('Rated 5.0', 'RATED\\n  Great ambience , look...        []   \n",
       "\n",
       "      listed_in(type) listed_in(city)  \n",
       "0              Buffet    Banashankari  \n",
       "1              Buffet    Banashankari  \n",
       "2              Buffet    Banashankari  \n",
       "3              Buffet    Banashankari  \n",
       "4              Buffet    Banashankari  \n",
       "...               ...             ...  \n",
       "51712   Pubs and bars      Whitefield  \n",
       "51713   Pubs and bars      Whitefield  \n",
       "51714   Pubs and bars      Whitefield  \n",
       "51715   Pubs and bars      Whitefield  \n",
       "51716   Pubs and bars      Whitefield  \n",
       "\n",
       "[51717 rows x 18 columns]"
      ]
     },
     "execution_count": 110,
     "metadata": {},
     "output_type": "execute_result"
    }
   ],
   "source": [
    "zomato"
   ]
  },
  {
   "cell_type": "code",
   "execution_count": 111,
   "id": "426365e1-4a5e-4e05-b6e5-16012d31b0b2",
   "metadata": {},
   "outputs": [
    {
     "data": {
      "text/plain": [
       "index                              0\n",
       "url                                0\n",
       "address                            0\n",
       "name                               0\n",
       "online_order                       0\n",
       "book_table                         0\n",
       "rate                            7775\n",
       "votes                              0\n",
       "phone                           1208\n",
       "location                          21\n",
       "rest_type                        227\n",
       "dish_liked                     28078\n",
       "cuisines                          45\n",
       "approx_cost(for two people)      346\n",
       "reviews_list                       0\n",
       "menu_item                          0\n",
       "listed_in(type)                    0\n",
       "listed_in(city)                    0\n",
       "dtype: int64"
      ]
     },
     "execution_count": 111,
     "metadata": {},
     "output_type": "execute_result"
    }
   ],
   "source": [
    "zomato.isnull().sum()"
   ]
  },
  {
   "cell_type": "code",
   "execution_count": 112,
   "id": "28c19fa6-8241-47fb-ba7b-c3ddcb7d351b",
   "metadata": {},
   "outputs": [
    {
     "data": {
      "text/plain": [
       "array(['4.1/5', '3.8/5', '3.7/5', '3.6/5', '4.6/5', '4.0/5', '4.2/5',\n",
       "       '3.9/5', '3.1/5', '3.0/5', '3.2/5', '3.3/5', '2.8/5', '4.4/5',\n",
       "       '4.3/5', 'NEW', '2.9/5', '3.5/5', None, '2.6/5', '3.8 /5', '3.4/5',\n",
       "       '4.5/5', '2.5/5', '2.7/5', '4.7/5', '2.4/5', '2.2/5', '2.3/5',\n",
       "       '3.4 /5', '-', '3.6 /5', '4.8/5', '3.9 /5', '4.2 /5', '4.0 /5',\n",
       "       '4.1 /5', '3.7 /5', '3.1 /5', '2.9 /5', '3.3 /5', '2.8 /5',\n",
       "       '3.5 /5', '2.7 /5', '2.5 /5', '3.2 /5', '2.6 /5', '4.5 /5',\n",
       "       '4.3 /5', '4.4 /5', '4.9/5', '2.1/5', '2.0/5', '1.8/5', '4.6 /5',\n",
       "       '4.9 /5', '3.0 /5', '4.8 /5', '2.3 /5', '4.7 /5', '2.4 /5',\n",
       "       '2.1 /5', '2.2 /5', '2.0 /5', '1.8 /5'], dtype=object)"
      ]
     },
     "execution_count": 112,
     "metadata": {},
     "output_type": "execute_result"
    }
   ],
   "source": [
    "zomato['rate'].unique()"
   ]
  },
  {
   "cell_type": "code",
   "execution_count": 113,
   "id": "ed706860-fee6-49f8-a590-e44b88254d0f",
   "metadata": {},
   "outputs": [],
   "source": [
    "zomato['rate'].replace(['NEW' , '-'], np.nan, inplace = True)"
   ]
  },
  {
   "cell_type": "code",
   "execution_count": 114,
   "id": "ae2bff29-5828-4f02-a07a-1373fb22452c",
   "metadata": {},
   "outputs": [
    {
     "data": {
      "text/plain": [
       "array(['4.1/5', '3.8/5', '3.7/5', '3.6/5', '4.6/5', '4.0/5', '4.2/5',\n",
       "       '3.9/5', '3.1/5', '3.0/5', '3.2/5', '3.3/5', '2.8/5', '4.4/5',\n",
       "       '4.3/5', nan, '2.9/5', '3.5/5', None, '2.6/5', '3.8 /5', '3.4/5',\n",
       "       '4.5/5', '2.5/5', '2.7/5', '4.7/5', '2.4/5', '2.2/5', '2.3/5',\n",
       "       '3.4 /5', '3.6 /5', '4.8/5', '3.9 /5', '4.2 /5', '4.0 /5',\n",
       "       '4.1 /5', '3.7 /5', '3.1 /5', '2.9 /5', '3.3 /5', '2.8 /5',\n",
       "       '3.5 /5', '2.7 /5', '2.5 /5', '3.2 /5', '2.6 /5', '4.5 /5',\n",
       "       '4.3 /5', '4.4 /5', '4.9/5', '2.1/5', '2.0/5', '1.8/5', '4.6 /5',\n",
       "       '4.9 /5', '3.0 /5', '4.8 /5', '2.3 /5', '4.7 /5', '2.4 /5',\n",
       "       '2.1 /5', '2.2 /5', '2.0 /5', '1.8 /5'], dtype=object)"
      ]
     },
     "execution_count": 114,
     "metadata": {},
     "output_type": "execute_result"
    }
   ],
   "source": [
    "zomato['rate'].unique()"
   ]
  },
  {
   "cell_type": "code",
   "execution_count": 115,
   "id": "d4609e4f-5809-41c5-95c8-35d6d9603ef1",
   "metadata": {},
   "outputs": [],
   "source": [
    "for rt in zomato['rate']:\n",
    "    if type(rt) == str:\n",
    "        float(rt.split('/')[0])\n",
    "    else:\n",
    "        rt"
   ]
  },
  {
   "cell_type": "code",
   "execution_count": 116,
   "id": "ff970341-4367-4dd4-b845-252c780b4b97",
   "metadata": {},
   "outputs": [],
   "source": [
    "def rate_spliter(rt):\n",
    "    if type(rt) == str:\n",
    "        return float(rt.split('/')[0])\n",
    "    else:\n",
    "        return rt"
   ]
  },
  {
   "cell_type": "code",
   "execution_count": 117,
   "id": "b35b3318-175b-459b-b3ee-db4ad4c83ff3",
   "metadata": {},
   "outputs": [],
   "source": [
    "rates = zomato['rate'].apply(rate_spliter)"
   ]
  },
  {
   "cell_type": "code",
   "execution_count": 118,
   "id": "096957c3-fe63-4efd-8646-972edefa95b0",
   "metadata": {
    "scrolled": true
   },
   "outputs": [],
   "source": [
    "cross = pd.crosstab(rates, zomato['online_order'])"
   ]
  },
  {
   "cell_type": "code",
   "execution_count": 119,
   "id": "ac4530e2-26d7-480f-a7dc-6f1eeff69990",
   "metadata": {},
   "outputs": [
    {
     "data": {
      "text/plain": [
       "<Axes: xlabel='rate'>"
      ]
     },
     "execution_count": 119,
     "metadata": {},
     "output_type": "execute_result"
    },
    {
     "data": {
      "image/png": "[encoded data removed]",
      "text/plain": [
       "<Figure size 640x480 with 1 Axes>"
      ]
     },
     "metadata": {},
     "output_type": "display_data"
    }
   ],
   "source": [
    "cross.plot(kind = 'bar', stacked = True)"
   ]
  },
  {
   "cell_type": "code",
   "execution_count": 120,
   "id": "83852658-7053-40d4-9c87-6299007131e3",
   "metadata": {},
   "outputs": [
    {
     "data": {
      "text/html": [
       "<div>\n",
       "<style scoped>\n",
       "    .dataframe tbody tr th:only-of-type {\n",
       "        vertical-align: middle;\n",
       "    }\n",
       "\n",
       "    .dataframe tbody tr th {\n",
       "        vertical-align: top;\n",
       "    }\n",
       "\n",
       "    .dataframe thead th {\n",
       "        text-align: right;\n",
       "    }\n",
       "</style>\n",
       "<table border=\"1\" class=\"dataframe\">\n",
       "  <thead>\n",
       "    <tr style=\"text-align: right;\">\n",
       "      <th>online_order</th>\n",
       "      <th>No</th>\n",
       "      <th>Yes</th>\n",
       "    </tr>\n",
       "    <tr>\n",
       "      <th>rate</th>\n",
       "      <th></th>\n",
       "      <th></th>\n",
       "    </tr>\n",
       "  </thead>\n",
       "  <tbody>\n",
       "    <tr>\n",
       "      <th>1.8</th>\n",
       "      <td>5</td>\n",
       "      <td>0</td>\n",
       "    </tr>\n",
       "    <tr>\n",
       "      <th>2.0</th>\n",
       "      <td>11</td>\n",
       "      <td>0</td>\n",
       "    </tr>\n",
       "    <tr>\n",
       "      <th>2.1</th>\n",
       "      <td>9</td>\n",
       "      <td>15</td>\n",
       "    </tr>\n",
       "    <tr>\n",
       "      <th>2.2</th>\n",
       "      <td>10</td>\n",
       "      <td>16</td>\n",
       "    </tr>\n",
       "    <tr>\n",
       "      <th>2.3</th>\n",
       "      <td>29</td>\n",
       "      <td>22</td>\n",
       "    </tr>\n",
       "  </tbody>\n",
       "</table>\n",
       "</div>"
      ],
      "text/plain": [
       "online_order  No  Yes\n",
       "rate                 \n",
       "1.8            5    0\n",
       "2.0           11    0\n",
       "2.1            9   15\n",
       "2.2           10   16\n",
       "2.3           29   22"
      ]
     },
     "execution_count": 120,
     "metadata": {},
     "output_type": "execute_result"
    }
   ],
   "source": [
    "cross.head()"
   ]
  },
  {
   "cell_type": "code",
   "execution_count": 121,
   "id": "0cd10fe8-b71c-463d-94e5-6eb9f094a4be",
   "metadata": {
    "scrolled": true
   },
   "outputs": [
    {
     "data": {
      "text/plain": [
       "rate\n",
       "1.8       5\n",
       "2.0      11\n",
       "2.1      24\n",
       "2.2      26\n",
       "2.3      51\n",
       "2.4      70\n",
       "2.5     101\n",
       "2.6     260\n",
       "2.7     307\n",
       "2.8     600\n",
       "2.9     802\n",
       "3.0    1023\n",
       "3.1    1561\n",
       "3.2    1873\n",
       "3.3    2310\n",
       "3.4    2476\n",
       "3.5    2784\n",
       "3.6    3316\n",
       "3.7    3821\n",
       "3.8    3873\n",
       "3.9    3972\n",
       "4.0    3183\n",
       "4.1    2948\n",
       "4.2    2184\n",
       "4.3    1693\n",
       "4.4    1147\n",
       "4.5     656\n",
       "4.6     300\n",
       "4.7     167\n",
       "4.8      66\n",
       "4.9      55\n",
       "dtype: int64"
      ]
     },
     "execution_count": 121,
     "metadata": {},
     "output_type": "execute_result"
    }
   ],
   "source": [
    "cross.sum(axis = 1)"
   ]
  },
  {
   "cell_type": "code",
   "execution_count": 122,
   "id": "ed92a3b3-94e7-45e4-b43e-3749ca9c7c34",
   "metadata": {},
   "outputs": [],
   "source": [
    "cross_per = cross.div(cross.sum(axis = 1).astype(float), axis = 0) * 100"
   ]
  },
  {
   "cell_type": "code",
   "execution_count": 123,
   "id": "263bcb5f-45db-4604-a7c9-40b6e5395d16",
   "metadata": {},
   "outputs": [
    {
     "data": {
      "text/plain": [
       "<Axes: xlabel='rate'>"
      ]
     },
     "execution_count": 123,
     "metadata": {},
     "output_type": "execute_result"
    },
    {
     "data": {
      "image/png": "[encoded data removed]",
      "text/plain": [
       "<Figure size 640x480 with 1 Axes>"
      ]
     },
     "metadata": {},
     "output_type": "display_data"
    }
   ],
   "source": [
    "cross_per.plot(kind = 'bar', stacked = True)"
   ]
  },
  {
   "cell_type": "code",
   "execution_count": 124,
   "id": "573813f7-2076-4d0d-b246-ce72d484cdf7",
   "metadata": {},
   "outputs": [],
   "source": [
    "data = zomato.dropna(subset = 'rest_type')"
   ]
  },
  {
   "cell_type": "code",
   "execution_count": 125,
   "id": "17412c97-4dcf-4d58-8bb2-0f1d907a9b55",
   "metadata": {
    "scrolled": true
   },
   "outputs": [],
   "source": [
    "quick_bites = data[data['rest_type'] == 'Quick Bites']"
   ]
  },
  {
   "cell_type": "code",
   "execution_count": 126,
   "id": "8d898314-6892-414b-a21d-fbfd8f1b8e65",
   "metadata": {
    "scrolled": true
   },
   "outputs": [
    {
     "data": {
      "text/plain": [
       "(19132, 18)"
      ]
     },
     "execution_count": 126,
     "metadata": {},
     "output_type": "execute_result"
    }
   ],
   "source": [
    "quick_bites.shape"
   ]
  },
  {
   "cell_type": "code",
   "execution_count": 127,
   "id": "bad21497-3e17-4021-bc2f-f4c46aff9689",
   "metadata": {},
   "outputs": [
    {
     "name": "stderr",
     "output_type": "stream",
     "text": [
      "C:\\Users\\Saikat\\AppData\\Local\\Temp\\ipykernel_6640\\2174006822.py:1: SettingWithCopyWarning: \n",
      "A value is trying to be set on a copy of a slice from a DataFrame.\n",
      "Try using .loc[row_indexer,col_indexer] = value instead\n",
      "\n",
      "See the caveats in the documentation: https://pandas.pydata.org/pandas-docs/stable/user_guide/indexing.html#returning-a-view-versus-a-copy\n",
      "  quick_bites['reviews_list'] = quick_bites['reviews_list'].apply(lambda x : x.lower())\n"
     ]
    }
   ],
   "source": [
    "quick_bites['reviews_list'] = quick_bites['reviews_list'].apply(lambda x : x.lower())"
   ]
  },
  {
   "cell_type": "code",
   "execution_count": 128,
   "id": "5822de5e-4bd2-48e3-b6d3-3ac345b80f49",
   "metadata": {},
   "outputs": [
    {
     "data": {
      "text/plain": [
       "3        [('rated 4.0', \"rated\\n  great food and proper...\n",
       "31       [('rated 1.0', \"rated\\n  worst restaurant ever...\n",
       "34       [('rated 3.0', 'rated\\n  not worth for the mon...\n",
       "36       [('rated 1.0', 'rated\\n  half baked rice in a ...\n",
       "39       [('rated 5.0', \"rated\\n  this restaurant serve...\n",
       "                               ...                        \n",
       "51641    [('rated 2.0', \"rated\\n  food is not upto the ...\n",
       "51642                                                   []\n",
       "51643                                                   []\n",
       "51644                                                   []\n",
       "51645    [('rated 5.0', \"rated\\n  i was randomly lookin...\n",
       "Name: reviews_list, Length: 19132, dtype: object"
      ]
     },
     "execution_count": 128,
     "metadata": {},
     "output_type": "execute_result"
    }
   ],
   "source": [
    "quick_bites['reviews_list']"
   ]
  },
  {
   "cell_type": "code",
   "execution_count": 129,
   "id": "cc3839b2-b435-4c52-9f99-76d14f3bef27",
   "metadata": {},
   "outputs": [],
   "source": [
    "import nltk\n",
    "from nltk.corpus import RegexpTokenizer"
   ]
  },
  {
   "cell_type": "code",
   "execution_count": 130,
   "id": "28b05045-7f18-4ff3-b100-00ef3d7438bb",
   "metadata": {},
   "outputs": [],
   "source": [
    "tokenizer = RegexpTokenizer('[a-zA-Z]+')"
   ]
  },
  {
   "cell_type": "code",
   "execution_count": 131,
   "id": "6c54193c-f7e5-49c5-832f-7c780d2c6954",
   "metadata": {},
   "outputs": [
    {
     "data": {
      "text/plain": [
       "RegexpTokenizer(pattern='[a-zA-Z]+', gaps=False, discard_empty=True, flags=re.UNICODE|re.MULTILINE|re.DOTALL)"
      ]
     },
     "execution_count": 131,
     "metadata": {},
     "output_type": "execute_result"
    }
   ],
   "source": [
    "tokenizer"
   ]
  },
  {
   "cell_type": "code",
   "execution_count": 132,
   "id": "ab3ae507-c25e-4567-8768-6031e9ca2eed",
   "metadata": {},
   "outputs": [],
   "source": [
    "words = quick_bites['reviews_list'].apply(tokenizer.tokenize)"
   ]
  },
  {
   "cell_type": "code",
   "execution_count": 133,
   "id": "f9ca0cf9-57e1-4ed5-a547-2f0225d8d5b1",
   "metadata": {
    "scrolled": true
   },
   "outputs": [
    {
     "name": "stdout",
     "output_type": "stream",
     "text": [
      "Requirement already satisfied: stop-words in c:\\users\\saikat\\appdata\\local\\programs\\python\\python311\\lib\\site-packages (2018.7.23)\n",
      "Note: you may need to restart the kernel to use updated packages.\n"
     ]
    },
    {
     "name": "stderr",
     "output_type": "stream",
     "text": [
      "\n",
      "[notice] A new release of pip is available: 23.2.1 -> 23.3.1\n",
      "[notice] To update, run: python.exe -m pip install --upgrade pip\n"
     ]
    }
   ],
   "source": [
    "pip install stop-words"
   ]
  },
  {
   "cell_type": "code",
   "execution_count": 134,
   "id": "45f78aad-d31c-4045-9d0d-687969c00fab",
   "metadata": {},
   "outputs": [],
   "source": [
    "from stop_words import get_stop_words"
   ]
  },
  {
   "cell_type": "code",
   "execution_count": 135,
   "id": "a6655b83-64c8-4322-b96f-e5f7c97f400d",
   "metadata": {},
   "outputs": [],
   "source": [
    "stop = get_stop_words('english')"
   ]
  },
  {
   "cell_type": "code",
   "execution_count": 136,
   "id": "b8d2c0d8-9cad-4d5f-8762-72568aee7bf7",
   "metadata": {},
   "outputs": [],
   "source": [
    "stop.extend(['rated', 'nan', 'n', 'RATED', 'Rated'])"
   ]
  },
  {
   "cell_type": "code",
   "execution_count": 137,
   "id": "e7a924e9-a5fd-4986-a101-8774537398f4",
   "metadata": {},
   "outputs": [
    {
     "name": "stdout",
     "output_type": "stream",
     "text": [
      "['a', 'about', 'above', 'after', 'again', 'against', 'all', 'am', 'an', 'and', 'any', 'are', \"aren't\", 'as', 'at', 'be', 'because', 'been', 'before', 'being', 'below', 'between', 'both', 'but', 'by', \"can't\", 'cannot', 'could', \"couldn't\", 'did', \"didn't\", 'do', 'does', \"doesn't\", 'doing', \"don't\", 'down', 'during', 'each', 'few', 'for', 'from', 'further', 'had', \"hadn't\", 'has', \"hasn't\", 'have', \"haven't\", 'having', 'he', \"he'd\", \"he'll\", \"he's\", 'her', 'here', \"here's\", 'hers', 'herself', 'him', 'himself', 'his', 'how', \"how's\", 'i', \"i'd\", \"i'll\", \"i'm\", \"i've\", 'if', 'in', 'into', 'is', \"isn't\", 'it', \"it's\", 'its', 'itself', \"let's\", 'me', 'more', 'most', \"mustn't\", 'my', 'myself', 'no', 'nor', 'not', 'of', 'off', 'on', 'once', 'only', 'or', 'other', 'ought', 'our', 'ours', 'ourselves', 'out', 'over', 'own', 'same', \"shan't\", 'she', \"she'd\", \"she'll\", \"she's\", 'should', \"shouldn't\", 'so', 'some', 'such', 'than', 'that', \"that's\", 'the', 'their', 'theirs', 'them', 'themselves', 'then', 'there', \"there's\", 'these', 'they', \"they'd\", \"they'll\", \"they're\", \"they've\", 'this', 'those', 'through', 'to', 'too', 'under', 'until', 'up', 'very', 'was', \"wasn't\", 'we', \"we'd\", \"we'll\", \"we're\", \"we've\", 'were', \"weren't\", 'what', \"what's\", 'when', \"when's\", 'where', \"where's\", 'which', 'while', 'who', \"who's\", 'whom', 'why', \"why's\", 'with', \"won't\", 'would', \"wouldn't\", 'you', \"you'd\", \"you'll\", \"you're\", \"you've\", 'your', 'yours', 'yourself', 'yourselves', 'rated', 'nan', 'n', 'RATED', 'Rated', 'rated', 'nan', 'n', 'RATED', 'Rated', 'rated', 'nan', 'n', 'RATED', 'Rated']\n"
     ]
    }
   ],
   "source": [
    "print(stop)"
   ]
  },
  {
   "cell_type": "code",
   "execution_count": null,
   "id": "2f537a6b-26f8-48ee-9111-ae85073c8d48",
   "metadata": {},
   "outputs": [],
   "source": [
    "words = words.apply(lambda review: [word for word in review if word not in stop])"
   ]
  },
  {
   "cell_type": "code",
   "execution_count": null,
   "id": "bf284bad-1c78-411c-96ac-cf1bfb20edd1",
   "metadata": {},
   "outputs": [],
   "source": [
    "words"
   ]
  },
  {
   "cell_type": "code",
   "execution_count": null,
   "id": "3a916a54-2192-4b44-8001-5991bdd383d9",
   "metadata": {},
   "outputs": [],
   "source": [
    "type(words)"
   ]
  },
  {
   "cell_type": "code",
   "execution_count": null,
   "id": "739f524c-5f9e-4d89-a45f-3bd7dda97fa1",
   "metadata": {},
   "outputs": [],
   "source": [
    "list_2D = list(words)"
   ]
  },
  {
   "cell_type": "code",
   "execution_count": null,
   "id": "ccf9c856-fa3d-4b15-933e-1b24a373f428",
   "metadata": {},
   "outputs": [],
   "source": [
    "list_1D = []\n",
    "for list in list_2D:\n",
    "    for review in list:\n",
    "        list_1D.append(review)"
   ]
  },
  {
   "cell_type": "code",
   "execution_count": null,
   "id": "6990cb45-83e3-4bc3-ae31-ff323f1f0c2b",
   "metadata": {},
   "outputs": [],
   "source": [
    "list_1D"
   ]
  },
  {
   "cell_type": "code",
   "execution_count": null,
   "id": "af471339-2991-48bd-9c8f-c37f0275a0a7",
   "metadata": {},
   "outputs": [],
   "source": [
    "from nltk import FreqDist"
   ]
  },
  {
   "cell_type": "code",
   "execution_count": null,
   "id": "ade0a1a9-76f7-4794-af21-2965ed9aa730",
   "metadata": {},
   "outputs": [],
   "source": [
    "fd = FreqDist()"
   ]
  },
  {
   "cell_type": "code",
   "execution_count": null,
   "id": "cb7e5c4a-c726-450e-94d4-ca10c1689f43",
   "metadata": {},
   "outputs": [],
   "source": [
    "for word in list_1D:\n",
    "    fd[word] = fd[word] + 1"
   ]
  },
  {
   "cell_type": "code",
   "execution_count": null,
   "id": "77b506c9-c93b-4b7f-aa57-a7ad9caaacfb",
   "metadata": {},
   "outputs": [],
   "source": [
    "fd.most_common(30)"
   ]
  },
  {
   "cell_type": "code",
   "execution_count": null,
   "id": "ab4a697a-750f-46dd-804e-7e74afa3633f",
   "metadata": {},
   "outputs": [],
   "source": [
    "fd.plot(30)"
   ]
  },
  {
   "cell_type": "code",
   "execution_count": null,
   "id": "aeeea1b8-1a0e-45f6-8d1b-94d08e59de4e",
   "metadata": {},
   "outputs": [],
   "source": [
    "from nltk import FreqDist, bigrams, trigrams"
   ]
  },
  {
   "cell_type": "code",
   "execution_count": null,
   "id": "289c711f-6426-49c1-a198-0250a400cc09",
   "metadata": {},
   "outputs": [],
   "source": [
    "bi_gram = bigrams(list_1D)"
   ]
  },
  {
   "cell_type": "code",
   "execution_count": null,
   "id": "f86d9fbf-cee5-43d2-9793-ef335f8d3926",
   "metadata": {},
   "outputs": [],
   "source": [
    "bi_gram"
   ]
  },
  {
   "cell_type": "code",
   "execution_count": null,
   "id": "913f9318-42af-4e10-8530-022d097b493c",
   "metadata": {},
   "outputs": [],
   "source": [
    "fd_bigram = FreqDist()"
   ]
  },
  {
   "cell_type": "code",
   "execution_count": null,
   "id": "1729c69c-abf6-4abb-ad93-ffa0eb69e89b",
   "metadata": {},
   "outputs": [],
   "source": [
    "for bi in bi_gram:\n",
    "    fd_bigram[bi] = fd_bigram[bi]+1"
   ]
  },
  {
   "cell_type": "code",
   "execution_count": null,
   "id": "73c4f2df-5304-4a90-a210-11c0cab8d9e1",
   "metadata": {
    "scrolled": true
   },
   "outputs": [],
   "source": [
    "fd_bigram.most_common(50)"
   ]
  },
  {
   "cell_type": "code",
   "execution_count": null,
   "id": "72beb349-9755-4bdd-bdab-3b6494dd759d",
   "metadata": {},
   "outputs": [],
   "source": [
    "fd_bigram.plot(50)"
   ]
  },
  {
   "cell_type": "code",
   "execution_count": null,
   "id": "b378ccd2-418f-4697-ac72-0d71d8f99988",
   "metadata": {},
   "outputs": [],
   "source": [
    "tri_gram = trigrams(list_1D)"
   ]
  },
  {
   "cell_type": "code",
   "execution_count": null,
   "id": "f26b0cf8-f812-46a3-9f62-1c7b333aa825",
   "metadata": {},
   "outputs": [],
   "source": [
    "fd_trigram = FreqDist()"
   ]
  },
  {
   "cell_type": "code",
   "execution_count": null,
   "id": "fa9c9bdf-01a7-4195-83f7-afc0be2078b7",
   "metadata": {},
   "outputs": [],
   "source": [
    "for tri in tri_gram:\n",
    "    fd_trigram[tri] = fd_trigram[tri]+1"
   ]
  },
  {
   "cell_type": "code",
   "execution_count": null,
   "id": "c989070a-2362-428a-8f91-19a9c02fbc3f",
   "metadata": {},
   "outputs": [],
   "source": [
    "fd_trigram.most_common(50)"
   ]
  },
  {
   "cell_type": "code",
   "execution_count": null,
   "id": "7af6f257-d89a-4097-a672-06f382754731",
   "metadata": {},
   "outputs": [],
   "source": [
    "fd_trigram.plot(50)"
   ]
  },
  {
   "cell_type": "code",
   "execution_count": null,
   "id": "f63440fd-f356-416e-97bb-4d0fde6bd8a1",
   "metadata": {},
   "outputs": [],
   "source": [
    "!pip install geocoder\n",
    "!pip install geopy"
   ]
  },
  {
   "cell_type": "code",
   "execution_count": null,
   "id": "7e034939-9d60-4b23-8096-21eefb97d40d",
   "metadata": {},
   "outputs": [],
   "source": [
    "zomato['location'].isnull().sum()"
   ]
  },
  {
   "cell_type": "code",
   "execution_count": null,
   "id": "26bbc3af-d9e7-4089-9f20-9a8cea2ed81f",
   "metadata": {},
   "outputs": [],
   "source": [
    "zomato_copy = zomato.dropna(subset = ['location'])"
   ]
  },
  {
   "cell_type": "code",
   "execution_count": null,
   "id": "4f4da889-6cc6-4cef-9b5b-f4369949ec77",
   "metadata": {},
   "outputs": [],
   "source": [
    "zomato_loc = zomato_copy['location'] + ', Bangalore, Karnataka, India'"
   ]
  },
  {
   "cell_type": "code",
   "execution_count": null,
   "id": "dd222992-0d4e-4f3e-9f0e-0327c77061c4",
   "metadata": {
    "scrolled": true
   },
   "outputs": [],
   "source": [
    "zomato_loc.unique()"
   ]
  },
  {
   "cell_type": "code",
   "execution_count": null,
   "id": "aa9430e8-7ad5-42bd-ba9a-80776a25166b",
   "metadata": {},
   "outputs": [],
   "source": [
    "zomato_loc_df = pd.DataFrame(zomato_loc)"
   ]
  },
  {
   "cell_type": "code",
   "execution_count": null,
   "id": "41ec267e-2a9a-40ac-8347-6a55fc866db9",
   "metadata": {},
   "outputs": [],
   "source": [
    "zomato_loc_df.columns = ['name']"
   ]
  },
  {
   "cell_type": "code",
   "execution_count": null,
   "id": "9d6fa3bd-ffc7-4774-83ae-0f6970729009",
   "metadata": {},
   "outputs": [],
   "source": [
    "zomato_loc_df"
   ]
  },
  {
   "cell_type": "code",
   "execution_count": null,
   "id": "f58aff78-68e8-4276-b9bf-238803851737",
   "metadata": {},
   "outputs": [],
   "source": [
    "from geopy.geocoders import Nominatim"
   ]
  },
  {
   "cell_type": "code",
   "execution_count": null,
   "id": "f293303b-807e-4ff3-b646-7e3dc5209fc4",
   "metadata": {},
   "outputs": [],
   "source": [
    "geolocator = Nominatim(user_agent = 'app', timeout= None)"
   ]
  },
  {
   "cell_type": "code",
   "execution_count": null,
   "id": "7b13070d-d0c8-4c45-bd18-38009fdd71f7",
   "metadata": {},
   "outputs": [],
   "source": [
    "lat = []\n",
    "long = []\n",
    "\n",
    "for loc in zomato_loc_df['name']:\n",
    "    location = geolocator.geocode(loc)\n",
    "    if location is None:\n",
    "        lat.append(np.nan)\n",
    "        long.append(np.nan)\n",
    "    else:\n",
    "        lat.append(location.latitude)\n",
    "        long.append(location.longitude)"
   ]
  },
  {
   "cell_type": "code",
   "execution_count": null,
   "id": "a48761b8-bd1e-4f5f-88ea-4f43fdb81f7d",
   "metadata": {},
   "outputs": [],
   "source": [
    "zomato_loc_df['latitude'] = lat\n",
    "zomato_loc_df['longitude'] = long"
   ]
  },
  {
   "cell_type": "code",
   "execution_count": null,
   "id": "5554b238-1d19-48ab-9706-1367a015ec49",
   "metadata": {
    "scrolled": true
   },
   "outputs": [],
   "source": [
    "zomato_loc_df"
   ]
  },
  {
   "cell_type": "code",
   "execution_count": null,
   "id": "754a4087-0e5e-4c00-9328-329099dbef03",
   "metadata": {},
   "outputs": [],
   "source": [
    "zomato_loc_df[zomato_loc_df['latitude'].isna()]"
   ]
  },
  {
   "cell_type": "code",
   "execution_count": null,
   "id": "82472aaa-1fe7-4d7c-83e7-337c8a4fc1c1",
   "metadata": {},
   "outputs": [],
   "source": [
    "zomato_loc_df['latitude'][79] = 13.0184435\n",
    "zomato_loc_df['longitude'][79] = 77.67812149999997"
   ]
  },
  {
   "cell_type": "code",
   "execution_count": null,
   "id": "bbb85040-87e5-41ab-8be4-d095906825bc",
   "metadata": {},
   "outputs": [],
   "source": [
    "zomato_loc_df['longitude'][79]"
   ]
  },
  {
   "cell_type": "code",
   "execution_count": null,
   "id": "1b381a48-282c-401e-81e8-d1771fb7999e",
   "metadata": {},
   "outputs": [],
   "source": [
    "zomato_loc_df['latitude'][85] = 13.010316\n",
    "zomato_loc_df['longitude'][85] = 77.580569"
   ]
  },
  {
   "cell_type": "code",
   "execution_count": null,
   "id": "283753c8-7b56-41bb-abf5-63e93046bec6",
   "metadata": {},
   "outputs": [],
   "source": [
    "zomato_loc_df['latitude'][85]"
   ]
  },
  {
   "cell_type": "code",
   "execution_count": null,
   "id": "ab9e68e2-d76a-4e6c-acf8-32b3f514db98",
   "metadata": {},
   "outputs": [],
   "source": [
    "zomato_loc_df.isnull().sum()"
   ]
  },
  {
   "cell_type": "code",
   "execution_count": null,
   "id": "1d1d82db-4e44-48cf-a47c-c4370fa900d9",
   "metadata": {},
   "outputs": [],
   "source": [
    "zomato['cuisines'].isnull().sum()"
   ]
  },
  {
   "cell_type": "code",
   "execution_count": null,
   "id": "6d5c99bc-7575-4466-88d4-e67cad40d9e2",
   "metadata": {
    "scrolled": true
   },
   "outputs": [],
   "source": [
    "zomato = zomato.dropna(subset = ['cuisines'])"
   ]
  },
  {
   "cell_type": "code",
   "execution_count": null,
   "id": "24a8012b-84c1-43e0-b5b9-fb879337ed08",
   "metadata": {},
   "outputs": [],
   "source": [
    "zomato_north = zomato[zomato['cuisines'].str.contains('North Indian')]"
   ]
  },
  {
   "cell_type": "code",
   "execution_count": null,
   "id": "427f0368-5fbf-4ffd-ab43-58845a862d84",
   "metadata": {},
   "outputs": [],
   "source": [
    "zomato_north.shape"
   ]
  },
  {
   "cell_type": "code",
   "execution_count": null,
   "id": "1c805ce1-db76-4698-adfb-ff81464f70fe",
   "metadata": {},
   "outputs": [],
   "source": [
    "zomato_north['location'] = zomato_north['location'] + ', Bangalore, Karnataka, India'"
   ]
  },
  {
   "cell_type": "code",
   "execution_count": null,
   "id": "2244c076-d09a-4f55-a13f-c514099a4551",
   "metadata": {},
   "outputs": [],
   "source": [
    "zomato_north_count = zomato_north['location'].value_counts().reset_index()"
   ]
  },
  {
   "cell_type": "code",
   "execution_count": null,
   "id": "cb383ae3-713b-4e00-99b2-47b8e5fbbf94",
   "metadata": {
    "scrolled": true
   },
   "outputs": [],
   "source": [
    "zomato_north_count = zomato_north_count.rename(columns = {'location' : 'name'})"
   ]
  },
  {
   "cell_type": "code",
   "execution_count": null,
   "id": "dbb48e24-6c73-49cb-a27f-b7b4f4dd9c91",
   "metadata": {
    "scrolled": true
   },
   "outputs": [],
   "source": [
    "zomato_loc_df"
   ]
  },
  {
   "cell_type": "code",
   "execution_count": null,
   "id": "5088d641-149a-43cd-aedf-80c7d9fa786a",
   "metadata": {},
   "outputs": [],
   "source": [
    "heatmap_df = zomato_north_count.merge(zomato_loc_df, on=\"name\", how = \"left\")"
   ]
  },
  {
   "cell_type": "code",
   "execution_count": null,
   "id": "afc1b7f8-a33b-4edb-9a99-202b8032df0d",
   "metadata": {},
   "outputs": [],
   "source": [
    "heatmap_df"
   ]
  },
  {
   "cell_type": "code",
   "execution_count": null,
   "id": "df88485d-691f-449a-ae24-b3ea9aac7e06",
   "metadata": {
    "scrolled": true
   },
   "outputs": [],
   "source": [
    "!pip install folium"
   ]
  },
  {
   "cell_type": "code",
   "execution_count": null,
   "id": "210cffca-f0bd-4300-a10e-b6caf9678bbf",
   "metadata": {},
   "outputs": [],
   "source": [
    "!pip install --upgrade pip"
   ]
  },
  {
   "cell_type": "code",
   "execution_count": null,
   "id": "645f5ab0-e6ee-46dd-9a31-b5dadb3ff325",
   "metadata": {},
   "outputs": [],
   "source": [
    "!pip install 23.3.1"
   ]
  },
  {
   "cell_type": "code",
   "execution_count": null,
   "id": "33ffab83-74bd-4f5f-9b95-f74fb0454b81",
   "metadata": {},
   "outputs": [],
   "source": [
    "import folium"
   ]
  },
  {
   "cell_type": "code",
   "execution_count": null,
   "id": "38909331-a0e7-478d-96b4-b8a9511bcc11",
   "metadata": {},
   "outputs": [],
   "source": [
    "basemap = folium.Map()"
   ]
  },
  {
   "cell_type": "code",
   "execution_count": null,
   "id": "c01e2ec8-22cf-49b8-976c-8be2aa3c7839",
   "metadata": {
    "scrolled": true
   },
   "outputs": [],
   "source": [
    "basemap"
   ]
  },
  {
   "cell_type": "code",
   "execution_count": null,
   "id": "b550a09c-f591-4398-9fae-c46df9022174",
   "metadata": {},
   "outputs": [],
   "source": [
    "from folium.plugins import HeatMap"
   ]
  },
  {
   "cell_type": "code",
   "execution_count": null,
   "id": "9fbbb552-2aa7-4f56-b9da-a11af104d8bf",
   "metadata": {},
   "outputs": [],
   "source": [
    "heatmap_df.columns"
   ]
  },
  {
   "cell_type": "code",
   "execution_count": null,
   "id": "6cea8f22-80ec-45b1-85e5-4b8482120c67",
   "metadata": {},
   "outputs": [],
   "source": [
    "HeatMap(heatmap_df[['latitude', 'longitude', 'count']]).add_to(basemap)"
   ]
  },
  {
   "cell_type": "code",
   "execution_count": null,
   "id": "71b231e0-d193-4bbc-bbc2-ee56b5a53dcd",
   "metadata": {
    "scrolled": true
   },
   "outputs": [],
   "source": [
    "basemap"
   ]
  },
  {
   "cell_type": "code",
   "execution_count": null,
   "id": "fce38ecf-b9b1-4230-9d25-b7de709fe88e",
   "metadata": {},
   "outputs": [],
   "source": [
    "def get_heatmap(cuisine):\n",
    "    cuisine_df = zomato[zomato['cuisines'].str.contains(cuisine)]\n",
    "    cuisine_rest_count = cuisine_df['location'].value_counts().reset_index().rename(columns = {'location' : 'name'})\n",
    "    heatmap_df = cuisine_rest_count.merge(zomato_loc_df, on=\"name\", how = \"left\")\n",
    "    print(heatmap_df.head())\n",
    "\n",
    "    basemap = folium.Map()\n",
    "    HeatMap(heatmap_df[['latitude', 'longitude', 'count']]).add_to(basemap)\n",
    "    return basemap"
   ]
  },
  {
   "cell_type": "code",
   "execution_count": null,
   "id": "73539053-e80d-47f7-9cb8-fda88a6191ce",
   "metadata": {
    "scrolled": true
   },
   "outputs": [],
   "source": [
    "zomato['cuisines']"
   ]
  },
  {
   "cell_type": "code",
   "execution_count": null,
   "id": "93611be1-93a5-419f-bac1-8148fec190ec",
   "metadata": {
    "scrolled": true
   },
   "outputs": [],
   "source": [
    "get_heatmap('South Indian')"
   ]
  },
  {
   "cell_type": "code",
   "execution_count": null,
   "id": "6464ce9c-39b9-440e-ab0c-48c8e202d6e5",
   "metadata": {},
   "outputs": [],
   "source": []
  },
  {
   "cell_type": "code",
   "execution_count": null,
   "id": "2c8fd665-5e51-4ef9-9fad-f8244e4280b8",
   "metadata": {},
   "outputs": [],
   "source": []
  },
  {
   "cell_type": "code",
   "execution_count": null,
   "id": "b945882d-13fe-445e-8cf1-98f7feb3a4bd",
   "metadata": {},
   "outputs": [],
   "source": []
  },
  {
   "cell_type": "code",
   "execution_count": null,
   "id": "478cf0e2-de66-4b7f-85a2-a1f77f65a711",
   "metadata": {},
   "outputs": [],
   "source": []
  },
  {
   "cell_type": "code",
   "execution_count": null,
   "id": "9a381e01-1339-4807-911f-0fdfa248f5c2",
   "metadata": {},
   "outputs": [],
   "source": []
  },
  {
   "cell_type": "code",
   "execution_count": null,
   "id": "8c538474-151c-4d29-bc6f-9252811dd925",
   "metadata": {},
   "outputs": [],
   "source": []
  },
  {
   "cell_type": "code",
   "execution_count": null,
   "id": "d0f7ee1d-dc22-4f50-813e-93f1f72067c7",
   "metadata": {},
   "outputs": [],
   "source": []
  },
  {
   "cell_type": "code",
   "execution_count": null,
   "id": "8ce64bdd-2e75-497d-b416-bbe9a9129588",
   "metadata": {},
   "outputs": [],
   "source": []
  },
  {
   "cell_type": "code",
   "execution_count": null,
   "id": "ac861667-7f50-4de8-83a0-40a5d52d6270",
   "metadata": {},
   "outputs": [],
   "source": []
  },
  {
   "cell_type": "code",
   "execution_count": null,
   "id": "92842a87-16f5-459b-934a-e24ce67dbca9",
   "metadata": {},
   "outputs": [],
   "source": []
  },
  {
   "cell_type": "code",
   "execution_count": null,
   "id": "e2120c31-8b74-4cad-9b36-72ab39c79063",
   "metadata": {},
   "outputs": [],
   "source": []
  },
  {
   "cell_type": "code",
   "execution_count": null,
   "id": "a26dbc9a-9f5f-4bed-b392-5bfb10484d62",
   "metadata": {},
   "outputs": [],
   "source": []
  },
  {
   "cell_type": "code",
   "execution_count": null,
   "id": "68cfa0eb-d296-4db7-8871-eb3cac0169dc",
   "metadata": {},
   "outputs": [],
   "source": []
  },
  {
   "cell_type": "code",
   "execution_count": null,
   "id": "441e9d29-eff9-485b-bdd8-35769670b7f2",
   "metadata": {},
   "outputs": [],
   "source": []
  },
  {
   "cell_type": "code",
   "execution_count": null,
   "id": "be54b707-cd00-4994-b87a-6ec4da6e55e8",
   "metadata": {},
   "outputs": [],
   "source": []
  },
  {
   "cell_type": "code",
   "execution_count": null,
   "id": "1af0a444-c85a-496b-a997-3a8764132065",
   "metadata": {},
   "outputs": [],
   "source": []
  },
  {
   "cell_type": "code",
   "execution_count": null,
   "id": "813d8f4e-60dd-408a-9933-ce866c30a1f6",
   "metadata": {},
   "outputs": [],
   "source": []
  },
  {
   "cell_type": "code",
   "execution_count": null,
   "id": "b2aff924-42fc-4f30-9573-2ed307b84820",
   "metadata": {},
   "outputs": [],
   "source": []
  },
  {
   "cell_type": "code",
   "execution_count": null,
   "id": "5436e77a-8b71-47a1-96e1-14224892242e",
   "metadata": {},
   "outputs": [],
   "source": []
  },
  {
   "cell_type": "code",
   "execution_count": null,
   "id": "6f214ca1-7566-4226-947a-ff3b33fa590a",
   "metadata": {},
   "outputs": [],
   "source": []
  },
  {
   "cell_type": "code",
   "execution_count": null,
   "id": "ad70a527-3dc9-4bd6-972d-86c251bd8f30",
   "metadata": {},
   "outputs": [],
   "source": []
  },
  {
   "cell_type": "code",
   "execution_count": null,
   "id": "174c5813-4bbc-4df4-a5db-33840bbd1c3d",
   "metadata": {},
   "outputs": [],
   "source": []
  },
  {
   "cell_type": "code",
   "execution_count": null,
   "id": "86b0f7c7-d4eb-4da9-9724-54e15dd0a59b",
   "metadata": {},
   "outputs": [],
   "source": []
  }
 ],
 "metadata": {
  "kernelspec": {
   "display_name": "Python 3 (ipykernel)",
   "language": "python",
   "name": "python3"
  },
  "language_info": {
   "codemirror_mode": {
    "name": "ipython",
    "version": 3
   },
   "file_extension": ".py",
   "mimetype": "text/x-python",
   "name": "python",
   "nbconvert_exporter": "python",
   "pygments_lexer": "ipython3",
   "version": "3.11.5"
  }
 },
 "nbformat": 4,
 "nbformat_minor": 5
}
